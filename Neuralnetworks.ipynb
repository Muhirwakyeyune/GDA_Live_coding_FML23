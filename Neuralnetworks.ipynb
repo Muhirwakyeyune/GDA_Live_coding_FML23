{
  "nbformat": 4,
  "nbformat_minor": 0,
  "metadata": {
    "colab": {
      "provenance": [],
      "authorship_tag": "ABX9TyOoiXQImvWGFZvmyVuZ8VPT",
      "include_colab_link": true
    },
    "kernelspec": {
      "name": "python3",
      "display_name": "Python 3"
    },
    "language_info": {
      "name": "python"
    }
  },
  "cells": [
    {
      "cell_type": "markdown",
      "metadata": {
        "id": "view-in-github",
        "colab_type": "text"
      },
      "source": [
        "<a href=\"https://colab.research.google.com/github/Muhirwakyeyune/GDA_Live_coding_FML23/blob/class/Neuralnetworks.ipynb\" target=\"_parent\"><img src=\"https://colab.research.google.com/assets/colab-badge.svg\" alt=\"Open In Colab\"/></a>"
      ]
    },
    {
      "cell_type": "code",
      "source": [
        "import numpy as np\n",
        "class NeuralNetwork:\n",
        "  def __init__(self, Input_dim, Layers_dim, output_dim, activation='sigmoid'):\n",
        "    self.Input_dim=Input_dim\n",
        "    self.Layers_dim=Layers_dim\n",
        "    self.output_dim=output_dim\n",
        "    self.activation=activation\n",
        "    self.num_layers=len(Layers_dim)\n",
        "    self.weights=[]\n",
        "    self.biases=[]\n",
        " \n",
        "    # Initializes weights and biases\n",
        "    for i in range(self.num_layers - 1):\n",
        "      input_dim_layer=int(Layers_dim[i])\n",
        "      out_dim_layer=int(Layers_dim[i + 1])\n",
        "      #if i ==(self.num_layers - 2):\n",
        "       # self.weights.append(np.random.randn(input_dim_layer, self.output_dim))\n",
        "      #else:\n",
        "      self.weights.append(np.random.randn(input_dim_layer , out_dim_layer)) \n",
        "      self.biases.append(np.zeros((1, int(out_dim_layer))))  \n",
        "  def  activate(self,z):  \n",
        "    if self.activation=='sigmoid':\n",
        "      return 1/(1 + np.exp(-z))\n",
        "    elif self.activation=='ReLu':\n",
        "      return np.maximum(0, z)\n",
        "    elif self.activation=='softmax':\n",
        "      ex_p=np.exp(z-np.max(z))\n",
        "      return ex_p/(1 + ex_p.sum(axis=0) )\n",
        "  def activate_der(self, z):\n",
        "    if self.activation =='sigmoid':\n",
        "      return (self.activate(z))*(1-self.activate(z))     \n",
        "    elif self.activation =='ReLu':\n",
        "      return np.where(z>0,1,0)\n",
        "    elif self.activation=='softmax':\n",
        "      return 1  \n",
        "  def compute_loss(self,y, y_pred):\n",
        "    loss=(-1/len(y)) *np.sum((y.nplog(y_pred))+(1-y)*np.sum(1-y_pred))   \n",
        "    return loss   \n",
        "  def  forward(self, x ):\n",
        "    activations=[x]\n",
        "    zs=[]\n",
        "    a=x\n",
        "    for i in range(self.num_layers -1):\n",
        "      z=np.dot(a, self.weights[i]) + self.biases[i]\n",
        "      zs.append(z)\n",
        "      a=self.activate(z)\n",
        "      activations.append(a)\n",
        "      return zs,activations\n",
        "  def   backward(self,x,y, activations, zs, lr):\n",
        "    n_examples=y.shape[0]\n",
        "\n",
        "    der=(activations[-1]- y)/(activations[-1]*(1- activations[-1]))\n",
        "    der=der/n_examples\n",
        "    weights_der=[]\n",
        "    biases_der=[]\n",
        "    for i in range(self.num_layers-2,-1,-1):\n",
        "      \n"
      ],
      "metadata": {
        "id": "2bL9rRqQL3J1"
      },
      "execution_count": null,
      "outputs": []
    },
    {
      "cell_type": "code",
      "source": [
        "Layers_dim=[4,4,6,7,4,8]\n",
        "nn=NeuralNetwork(4,Layers_dim, 1,activation='sigmoid')\n",
        "nn"
      ],
      "metadata": {
        "colab": {
          "base_uri": "https://localhost:8080/"
        },
        "id": "rg-YP4PlpVxz",
        "outputId": "89fffb4a-1726-4233-8c49-d335c06bb5c3"
      },
      "execution_count": null,
      "outputs": [
        {
          "output_type": "execute_result",
          "data": {
            "text/plain": [
              "<__main__.NeuralNetwork at 0x7fd828215280>"
            ]
          },
          "metadata": {},
          "execution_count": 2
        }
      ]
    },
    {
      "cell_type": "code",
      "source": [
        "type(Layers_dim[1])"
      ],
      "metadata": {
        "colab": {
          "base_uri": "https://localhost:8080/"
        },
        "id": "-4X5blbiv54e",
        "outputId": "7a528105-6018-4263-c404-a87cf0f4ae29"
      },
      "execution_count": null,
      "outputs": [
        {
          "output_type": "execute_result",
          "data": {
            "text/plain": [
              "int"
            ]
          },
          "metadata": {},
          "execution_count": 17
        }
      ]
    },
    {
      "cell_type": "code",
      "source": [],
      "metadata": {
        "id": "b6TJJZt5x_sc"
      },
      "execution_count": null,
      "outputs": []
    }
  ]
}
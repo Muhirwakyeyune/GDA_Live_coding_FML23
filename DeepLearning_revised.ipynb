{
  "nbformat": 4,
  "nbformat_minor": 0,
  "metadata": {
    "colab": {
      "provenance": [],
      "include_colab_link": true
    },
    "kernelspec": {
      "name": "python3",
      "display_name": "Python 3"
    },
    "language_info": {
      "name": "python"
    }
  },
  "cells": [
    {
      "cell_type": "markdown",
      "metadata": {
        "id": "view-in-github",
        "colab_type": "text"
      },
      "source": [
        "<a href=\"https://colab.research.google.com/github/Muhirwakyeyune/GDA_Live_coding_FML23/blob/class/DeepLearning_revised.ipynb\" target=\"_parent\"><img src=\"https://colab.research.google.com/assets/colab-badge.svg\" alt=\"Open In Colab\"/></a>"
      ]
    },
    {
      "cell_type": "code",
      "execution_count": 9,
      "metadata": {
        "id": "yYaKNXEtP0Pm"
      },
      "outputs": [],
      "source": [
        "import numpy as np\n",
        "import pandas as pd\n",
        "import matplotlib.pyplot as plt\n",
        "np.random.seed(1)\n",
        "from IPython import display"
      ]
    },
    {
      "cell_type": "code",
      "source": [],
      "metadata": {
        "id": "PzZIwnA7V7Yt"
      },
      "execution_count": 9,
      "outputs": []
    },
    {
      "cell_type": "code",
      "source": [],
      "metadata": {
        "id": "CWBCGnYgV8AT"
      },
      "execution_count": 9,
      "outputs": []
    },
    {
      "cell_type": "code",
      "source": [
        "\n",
        "path= '/diabetes (1).csv'\n",
        "data= pd.read_csv(path)\n",
        "data.head()"
      ],
      "metadata": {
        "colab": {
          "base_uri": "https://localhost:8080/",
          "height": 270
        },
        "id": "pZ6cQNQ1P7Ib",
        "outputId": "3618a389-7ebf-43f0-abd5-79945deee991"
      },
      "execution_count": 10,
      "outputs": [
        {
          "output_type": "execute_result",
          "data": {
            "text/plain": [
              "   Pregnancies  Glucose  BloodPressure  SkinThickness  Insulin   BMI  \\\n",
              "0            6      148             72             35        0  33.6   \n",
              "1            1       85             66             29        0  26.6   \n",
              "2            8      183             64              0        0  23.3   \n",
              "3            1       89             66             23       94  28.1   \n",
              "4            0      137             40             35      168  43.1   \n",
              "\n",
              "   DiabetesPedigreeFunction  Age  Outcome  \n",
              "0                     0.627   50        1  \n",
              "1                     0.351   31        0  \n",
              "2                     0.672   32        1  \n",
              "3                     0.167   21        0  \n",
              "4                     2.288   33        1  "
            ],
            "text/html": [
              "\n",
              "  <div id=\"df-2f08cec1-751c-4655-a116-f8416eeaefab\">\n",
              "    <div class=\"colab-df-container\">\n",
              "      <div>\n",
              "<style scoped>\n",
              "    .dataframe tbody tr th:only-of-type {\n",
              "        vertical-align: middle;\n",
              "    }\n",
              "\n",
              "    .dataframe tbody tr th {\n",
              "        vertical-align: top;\n",
              "    }\n",
              "\n",
              "    .dataframe thead th {\n",
              "        text-align: right;\n",
              "    }\n",
              "</style>\n",
              "<table border=\"1\" class=\"dataframe\">\n",
              "  <thead>\n",
              "    <tr style=\"text-align: right;\">\n",
              "      <th></th>\n",
              "      <th>Pregnancies</th>\n",
              "      <th>Glucose</th>\n",
              "      <th>BloodPressure</th>\n",
              "      <th>SkinThickness</th>\n",
              "      <th>Insulin</th>\n",
              "      <th>BMI</th>\n",
              "      <th>DiabetesPedigreeFunction</th>\n",
              "      <th>Age</th>\n",
              "      <th>Outcome</th>\n",
              "    </tr>\n",
              "  </thead>\n",
              "  <tbody>\n",
              "    <tr>\n",
              "      <th>0</th>\n",
              "      <td>6</td>\n",
              "      <td>148</td>\n",
              "      <td>72</td>\n",
              "      <td>35</td>\n",
              "      <td>0</td>\n",
              "      <td>33.6</td>\n",
              "      <td>0.627</td>\n",
              "      <td>50</td>\n",
              "      <td>1</td>\n",
              "    </tr>\n",
              "    <tr>\n",
              "      <th>1</th>\n",
              "      <td>1</td>\n",
              "      <td>85</td>\n",
              "      <td>66</td>\n",
              "      <td>29</td>\n",
              "      <td>0</td>\n",
              "      <td>26.6</td>\n",
              "      <td>0.351</td>\n",
              "      <td>31</td>\n",
              "      <td>0</td>\n",
              "    </tr>\n",
              "    <tr>\n",
              "      <th>2</th>\n",
              "      <td>8</td>\n",
              "      <td>183</td>\n",
              "      <td>64</td>\n",
              "      <td>0</td>\n",
              "      <td>0</td>\n",
              "      <td>23.3</td>\n",
              "      <td>0.672</td>\n",
              "      <td>32</td>\n",
              "      <td>1</td>\n",
              "    </tr>\n",
              "    <tr>\n",
              "      <th>3</th>\n",
              "      <td>1</td>\n",
              "      <td>89</td>\n",
              "      <td>66</td>\n",
              "      <td>23</td>\n",
              "      <td>94</td>\n",
              "      <td>28.1</td>\n",
              "      <td>0.167</td>\n",
              "      <td>21</td>\n",
              "      <td>0</td>\n",
              "    </tr>\n",
              "    <tr>\n",
              "      <th>4</th>\n",
              "      <td>0</td>\n",
              "      <td>137</td>\n",
              "      <td>40</td>\n",
              "      <td>35</td>\n",
              "      <td>168</td>\n",
              "      <td>43.1</td>\n",
              "      <td>2.288</td>\n",
              "      <td>33</td>\n",
              "      <td>1</td>\n",
              "    </tr>\n",
              "  </tbody>\n",
              "</table>\n",
              "</div>\n",
              "      <button class=\"colab-df-convert\" onclick=\"convertToInteractive('df-2f08cec1-751c-4655-a116-f8416eeaefab')\"\n",
              "              title=\"Convert this dataframe to an interactive table.\"\n",
              "              style=\"display:none;\">\n",
              "        \n",
              "  <svg xmlns=\"http://www.w3.org/2000/svg\" height=\"24px\"viewBox=\"0 0 24 24\"\n",
              "       width=\"24px\">\n",
              "    <path d=\"M0 0h24v24H0V0z\" fill=\"none\"/>\n",
              "    <path d=\"M18.56 5.44l.94 2.06.94-2.06 2.06-.94-2.06-.94-.94-2.06-.94 2.06-2.06.94zm-11 1L8.5 8.5l.94-2.06 2.06-.94-2.06-.94L8.5 2.5l-.94 2.06-2.06.94zm10 10l.94 2.06.94-2.06 2.06-.94-2.06-.94-.94-2.06-.94 2.06-2.06.94z\"/><path d=\"M17.41 7.96l-1.37-1.37c-.4-.4-.92-.59-1.43-.59-.52 0-1.04.2-1.43.59L10.3 9.45l-7.72 7.72c-.78.78-.78 2.05 0 2.83L4 21.41c.39.39.9.59 1.41.59.51 0 1.02-.2 1.41-.59l7.78-7.78 2.81-2.81c.8-.78.8-2.07 0-2.86zM5.41 20L4 18.59l7.72-7.72 1.47 1.35L5.41 20z\"/>\n",
              "  </svg>\n",
              "      </button>\n",
              "      \n",
              "  <style>\n",
              "    .colab-df-container {\n",
              "      display:flex;\n",
              "      flex-wrap:wrap;\n",
              "      gap: 12px;\n",
              "    }\n",
              "\n",
              "    .colab-df-convert {\n",
              "      background-color: #E8F0FE;\n",
              "      border: none;\n",
              "      border-radius: 50%;\n",
              "      cursor: pointer;\n",
              "      display: none;\n",
              "      fill: #1967D2;\n",
              "      height: 32px;\n",
              "      padding: 0 0 0 0;\n",
              "      width: 32px;\n",
              "    }\n",
              "\n",
              "    .colab-df-convert:hover {\n",
              "      background-color: #E2EBFA;\n",
              "      box-shadow: 0px 1px 2px rgba(60, 64, 67, 0.3), 0px 1px 3px 1px rgba(60, 64, 67, 0.15);\n",
              "      fill: #174EA6;\n",
              "    }\n",
              "\n",
              "    [theme=dark] .colab-df-convert {\n",
              "      background-color: #3B4455;\n",
              "      fill: #D2E3FC;\n",
              "    }\n",
              "\n",
              "    [theme=dark] .colab-df-convert:hover {\n",
              "      background-color: #434B5C;\n",
              "      box-shadow: 0px 1px 3px 1px rgba(0, 0, 0, 0.15);\n",
              "      filter: drop-shadow(0px 1px 2px rgba(0, 0, 0, 0.3));\n",
              "      fill: #FFFFFF;\n",
              "    }\n",
              "  </style>\n",
              "\n",
              "      <script>\n",
              "        const buttonEl =\n",
              "          document.querySelector('#df-2f08cec1-751c-4655-a116-f8416eeaefab button.colab-df-convert');\n",
              "        buttonEl.style.display =\n",
              "          google.colab.kernel.accessAllowed ? 'block' : 'none';\n",
              "\n",
              "        async function convertToInteractive(key) {\n",
              "          const element = document.querySelector('#df-2f08cec1-751c-4655-a116-f8416eeaefab');\n",
              "          const dataTable =\n",
              "            await google.colab.kernel.invokeFunction('convertToInteractive',\n",
              "                                                     [key], {});\n",
              "          if (!dataTable) return;\n",
              "\n",
              "          const docLinkHtml = 'Like what you see? Visit the ' +\n",
              "            '<a target=\"_blank\" href=https://colab.research.google.com/notebooks/data_table.ipynb>data table notebook</a>'\n",
              "            + ' to learn more about interactive tables.';\n",
              "          element.innerHTML = '';\n",
              "          dataTable['output_type'] = 'display_data';\n",
              "          await google.colab.output.renderOutput(dataTable, element);\n",
              "          const docLink = document.createElement('div');\n",
              "          docLink.innerHTML = docLinkHtml;\n",
              "          element.appendChild(docLink);\n",
              "        }\n",
              "      </script>\n",
              "    </div>\n",
              "  </div>\n",
              "  "
            ]
          },
          "metadata": {},
          "execution_count": 10
        }
      ]
    },
    {
      "cell_type": "code",
      "source": [
        "def scale(x):\n",
        "  \"\"\"\n",
        "  Parameters\n",
        "  -------\n",
        "    x: dataframe\n",
        "\n",
        "  Returns\n",
        "  -------\n",
        "    x_scaled: dataframe\n",
        "  \n",
        "  \"\"\"\n",
        "  x_scaled= (x-np.mean(x))/np.std(x)\n",
        "  return x_scaled"
      ],
      "metadata": {
        "id": "YZR3a0LDQDaT"
      },
      "execution_count": 11,
      "outputs": []
    },
    {
      "cell_type": "code",
      "source": [
        "data.iloc[:,:-1]= scale(data)\n",
        "data.head()"
      ],
      "metadata": {
        "colab": {
          "base_uri": "https://localhost:8080/",
          "height": 305
        },
        "id": "abHtUfyOQGCe",
        "outputId": "7ada2d41-caca-4b19-faac-c842160cf473"
      },
      "execution_count": 12,
      "outputs": [
        {
          "output_type": "stream",
          "name": "stderr",
          "text": [
            "/usr/local/lib/python3.9/dist-packages/numpy/core/fromnumeric.py:3472: FutureWarning: In a future version, DataFrame.mean(axis=None) will return a scalar mean over the entire DataFrame. To retain the old behavior, use 'frame.mean(axis=0)' or just 'frame.mean()'\n",
            "  return mean(axis=axis, dtype=dtype, out=out, **kwargs)\n"
          ]
        },
        {
          "output_type": "execute_result",
          "data": {
            "text/plain": [
              "   Pregnancies   Glucose  BloodPressure  SkinThickness   Insulin       BMI  \\\n",
              "0     0.639947  0.848324       0.149641       0.907270 -0.692891  0.204013   \n",
              "1    -0.844885 -1.123396      -0.160546       0.530902 -0.692891 -0.684422   \n",
              "2     1.233880  1.943724      -0.263941      -1.288212 -0.692891 -1.103255   \n",
              "3    -0.844885 -0.998208      -0.160546       0.154533  0.123302 -0.494043   \n",
              "4    -1.141852  0.504055      -1.504687       0.907270  0.765836  1.409746   \n",
              "\n",
              "   DiabetesPedigreeFunction       Age  Outcome  \n",
              "0                  0.468492  1.425995        1  \n",
              "1                 -0.365061 -0.190672        0  \n",
              "2                  0.604397 -0.105584        1  \n",
              "3                 -0.920763 -1.041549        0  \n",
              "4                  5.484909 -0.020496        1  "
            ],
            "text/html": [
              "\n",
              "  <div id=\"df-e45891eb-508b-4b68-b1a3-c7638c160e6e\">\n",
              "    <div class=\"colab-df-container\">\n",
              "      <div>\n",
              "<style scoped>\n",
              "    .dataframe tbody tr th:only-of-type {\n",
              "        vertical-align: middle;\n",
              "    }\n",
              "\n",
              "    .dataframe tbody tr th {\n",
              "        vertical-align: top;\n",
              "    }\n",
              "\n",
              "    .dataframe thead th {\n",
              "        text-align: right;\n",
              "    }\n",
              "</style>\n",
              "<table border=\"1\" class=\"dataframe\">\n",
              "  <thead>\n",
              "    <tr style=\"text-align: right;\">\n",
              "      <th></th>\n",
              "      <th>Pregnancies</th>\n",
              "      <th>Glucose</th>\n",
              "      <th>BloodPressure</th>\n",
              "      <th>SkinThickness</th>\n",
              "      <th>Insulin</th>\n",
              "      <th>BMI</th>\n",
              "      <th>DiabetesPedigreeFunction</th>\n",
              "      <th>Age</th>\n",
              "      <th>Outcome</th>\n",
              "    </tr>\n",
              "  </thead>\n",
              "  <tbody>\n",
              "    <tr>\n",
              "      <th>0</th>\n",
              "      <td>0.639947</td>\n",
              "      <td>0.848324</td>\n",
              "      <td>0.149641</td>\n",
              "      <td>0.907270</td>\n",
              "      <td>-0.692891</td>\n",
              "      <td>0.204013</td>\n",
              "      <td>0.468492</td>\n",
              "      <td>1.425995</td>\n",
              "      <td>1</td>\n",
              "    </tr>\n",
              "    <tr>\n",
              "      <th>1</th>\n",
              "      <td>-0.844885</td>\n",
              "      <td>-1.123396</td>\n",
              "      <td>-0.160546</td>\n",
              "      <td>0.530902</td>\n",
              "      <td>-0.692891</td>\n",
              "      <td>-0.684422</td>\n",
              "      <td>-0.365061</td>\n",
              "      <td>-0.190672</td>\n",
              "      <td>0</td>\n",
              "    </tr>\n",
              "    <tr>\n",
              "      <th>2</th>\n",
              "      <td>1.233880</td>\n",
              "      <td>1.943724</td>\n",
              "      <td>-0.263941</td>\n",
              "      <td>-1.288212</td>\n",
              "      <td>-0.692891</td>\n",
              "      <td>-1.103255</td>\n",
              "      <td>0.604397</td>\n",
              "      <td>-0.105584</td>\n",
              "      <td>1</td>\n",
              "    </tr>\n",
              "    <tr>\n",
              "      <th>3</th>\n",
              "      <td>-0.844885</td>\n",
              "      <td>-0.998208</td>\n",
              "      <td>-0.160546</td>\n",
              "      <td>0.154533</td>\n",
              "      <td>0.123302</td>\n",
              "      <td>-0.494043</td>\n",
              "      <td>-0.920763</td>\n",
              "      <td>-1.041549</td>\n",
              "      <td>0</td>\n",
              "    </tr>\n",
              "    <tr>\n",
              "      <th>4</th>\n",
              "      <td>-1.141852</td>\n",
              "      <td>0.504055</td>\n",
              "      <td>-1.504687</td>\n",
              "      <td>0.907270</td>\n",
              "      <td>0.765836</td>\n",
              "      <td>1.409746</td>\n",
              "      <td>5.484909</td>\n",
              "      <td>-0.020496</td>\n",
              "      <td>1</td>\n",
              "    </tr>\n",
              "  </tbody>\n",
              "</table>\n",
              "</div>\n",
              "      <button class=\"colab-df-convert\" onclick=\"convertToInteractive('df-e45891eb-508b-4b68-b1a3-c7638c160e6e')\"\n",
              "              title=\"Convert this dataframe to an interactive table.\"\n",
              "              style=\"display:none;\">\n",
              "        \n",
              "  <svg xmlns=\"http://www.w3.org/2000/svg\" height=\"24px\"viewBox=\"0 0 24 24\"\n",
              "       width=\"24px\">\n",
              "    <path d=\"M0 0h24v24H0V0z\" fill=\"none\"/>\n",
              "    <path d=\"M18.56 5.44l.94 2.06.94-2.06 2.06-.94-2.06-.94-.94-2.06-.94 2.06-2.06.94zm-11 1L8.5 8.5l.94-2.06 2.06-.94-2.06-.94L8.5 2.5l-.94 2.06-2.06.94zm10 10l.94 2.06.94-2.06 2.06-.94-2.06-.94-.94-2.06-.94 2.06-2.06.94z\"/><path d=\"M17.41 7.96l-1.37-1.37c-.4-.4-.92-.59-1.43-.59-.52 0-1.04.2-1.43.59L10.3 9.45l-7.72 7.72c-.78.78-.78 2.05 0 2.83L4 21.41c.39.39.9.59 1.41.59.51 0 1.02-.2 1.41-.59l7.78-7.78 2.81-2.81c.8-.78.8-2.07 0-2.86zM5.41 20L4 18.59l7.72-7.72 1.47 1.35L5.41 20z\"/>\n",
              "  </svg>\n",
              "      </button>\n",
              "      \n",
              "  <style>\n",
              "    .colab-df-container {\n",
              "      display:flex;\n",
              "      flex-wrap:wrap;\n",
              "      gap: 12px;\n",
              "    }\n",
              "\n",
              "    .colab-df-convert {\n",
              "      background-color: #E8F0FE;\n",
              "      border: none;\n",
              "      border-radius: 50%;\n",
              "      cursor: pointer;\n",
              "      display: none;\n",
              "      fill: #1967D2;\n",
              "      height: 32px;\n",
              "      padding: 0 0 0 0;\n",
              "      width: 32px;\n",
              "    }\n",
              "\n",
              "    .colab-df-convert:hover {\n",
              "      background-color: #E2EBFA;\n",
              "      box-shadow: 0px 1px 2px rgba(60, 64, 67, 0.3), 0px 1px 3px 1px rgba(60, 64, 67, 0.15);\n",
              "      fill: #174EA6;\n",
              "    }\n",
              "\n",
              "    [theme=dark] .colab-df-convert {\n",
              "      background-color: #3B4455;\n",
              "      fill: #D2E3FC;\n",
              "    }\n",
              "\n",
              "    [theme=dark] .colab-df-convert:hover {\n",
              "      background-color: #434B5C;\n",
              "      box-shadow: 0px 1px 3px 1px rgba(0, 0, 0, 0.15);\n",
              "      filter: drop-shadow(0px 1px 2px rgba(0, 0, 0, 0.3));\n",
              "      fill: #FFFFFF;\n",
              "    }\n",
              "  </style>\n",
              "\n",
              "      <script>\n",
              "        const buttonEl =\n",
              "          document.querySelector('#df-e45891eb-508b-4b68-b1a3-c7638c160e6e button.colab-df-convert');\n",
              "        buttonEl.style.display =\n",
              "          google.colab.kernel.accessAllowed ? 'block' : 'none';\n",
              "\n",
              "        async function convertToInteractive(key) {\n",
              "          const element = document.querySelector('#df-e45891eb-508b-4b68-b1a3-c7638c160e6e');\n",
              "          const dataTable =\n",
              "            await google.colab.kernel.invokeFunction('convertToInteractive',\n",
              "                                                     [key], {});\n",
              "          if (!dataTable) return;\n",
              "\n",
              "          const docLinkHtml = 'Like what you see? Visit the ' +\n",
              "            '<a target=\"_blank\" href=https://colab.research.google.com/notebooks/data_table.ipynb>data table notebook</a>'\n",
              "            + ' to learn more about interactive tables.';\n",
              "          element.innerHTML = '';\n",
              "          dataTable['output_type'] = 'display_data';\n",
              "          await google.colab.output.renderOutput(dataTable, element);\n",
              "          const docLink = document.createElement('div');\n",
              "          docLink.innerHTML = docLinkHtml;\n",
              "          element.appendChild(docLink);\n",
              "        }\n",
              "      </script>\n",
              "    </div>\n",
              "  </div>\n",
              "  "
            ]
          },
          "metadata": {},
          "execution_count": 12
        }
      ]
    },
    {
      "cell_type": "code",
      "source": [
        "def split_data(data, train_percent= 0.8):\n",
        "  \"\"\"\n",
        "  Parameters\n",
        "  -------\n",
        "    df: a dataframe\n",
        "    train_percent: a float\n",
        "    \n",
        "\n",
        "  Returns\n",
        "  -------\n",
        "    \n",
        "    x_train: an array\n",
        "    x_test: an array \n",
        "    y_train: an array\n",
        "    y_test: an array\n",
        "  \n",
        "  \"\"\"\n",
        "  n = int(len(data)*train_percent)\n",
        "\n",
        "\n",
        "  x_train, y_train = data.iloc[:n,:-1], data.iloc[:n,-1]\n",
        "  x_test , y_test = data.iloc[n:, :-1], data.iloc[n:, -1]\n",
        "  return x_train.values, x_test.values, y_train.values, y_test.values\n",
        "  \n",
        "  "
      ],
      "metadata": {
        "id": "uE20qrSCQUuw"
      },
      "execution_count": 13,
      "outputs": []
    },
    {
      "cell_type": "code",
      "source": [
        "x_train, x_test, y_train, y_test= split_data(data) \n",
        "x_train.shape, y_train.shape, x_test.shape, y_test.shape"
      ],
      "metadata": {
        "colab": {
          "base_uri": "https://localhost:8080/"
        },
        "id": "e4FPLvDiQnzL",
        "outputId": "2f4307dc-ce0f-4fe6-f1d9-b7598d350794"
      },
      "execution_count": 14,
      "outputs": [
        {
          "output_type": "execute_result",
          "data": {
            "text/plain": [
              "((614, 8), (614,), (154, 8), (154,))"
            ]
          },
          "metadata": {},
          "execution_count": 14
        }
      ]
    },
    {
      "cell_type": "code",
      "source": [
        "a=np.array((614, 8))\n",
        "a"
      ],
      "metadata": {
        "colab": {
          "base_uri": "https://localhost:8080/"
        },
        "id": "P1zhQ1DS1KUA",
        "outputId": "9d97e097-1964-4c70-9e86-3dc504b728a7"
      },
      "execution_count": 15,
      "outputs": [
        {
          "output_type": "execute_result",
          "data": {
            "text/plain": [
              "array([614,   8])"
            ]
          },
          "metadata": {},
          "execution_count": 15
        }
      ]
    },
    {
      "cell_type": "code",
      "source": [
        "def sigmoid(x):\n",
        "  \"\"\"\n",
        "  Parameters\n",
        "  ----------\n",
        "    x: an array\n",
        "\n",
        "  return\n",
        "  ------\n",
        "\n",
        "    y: 1/(1+exp(-x))\n",
        "\n",
        "      a list of value between 0 and 1\n",
        "  \"\"\"\n",
        "  return 1/(1 + np.exp(-x))"
      ],
      "metadata": {
        "id": "cnkR9elPQvS3"
      },
      "execution_count": 16,
      "outputs": []
    },
    {
      "cell_type": "code",
      "source": [
        "def dsigmoid(x):\n",
        "  \"\"\"\n",
        "  Parameters\n",
        "  ----------\n",
        "    x: an array\n",
        "\n",
        "  return\n",
        "  ------\n",
        "\n",
        "    y: sigmoid(x)*(1- sigmoid(x))\n",
        "\n",
        "      a list of value of the derivative of sigmoid\n",
        "  \"\"\"\n",
        "  return sigmoid(x)*(1- sigmoid(x))"
      ],
      "metadata": {
        "id": "nyaJzqQjQu7M"
      },
      "execution_count": 17,
      "outputs": []
    },
    {
      "cell_type": "code",
      "source": [
        "def cross_entropy(y,y_pred):\n",
        "  \"\"\"\n",
        "  Parameters\n",
        "  ----------\n",
        "    y: an array\n",
        "    y_pred: array\n",
        "\n",
        "  return\n",
        "  ------\n",
        "   : float\n",
        "  \"\"\"\n",
        "  loss= -np.mean((y*np.log(y_pred)+ (1-y)*np.log(1-y_pred)))\n",
        "  return loss"
      ],
      "metadata": {
        "id": "SBH8s6GBRAbh"
      },
      "execution_count": 18,
      "outputs": []
    },
    {
      "cell_type": "code",
      "source": [
        "def forward_pass(x, w1, b1, w2, b2):\n",
        "  \"\"\"\n",
        "  Parameters\n",
        "  ---------\n",
        "    x: an array of N rows\n",
        "    w1: an array of shape (hidden_dim, input_dim)\n",
        "    b1: an array of shape (hidden_dim, 1). Bias vector\n",
        "    w2: an array of shape (output_dim, hidden_dim)\n",
        "    b2: an array of shape (1, 1)\n",
        "  \n",
        "  Return\n",
        "  ------\n",
        "    z1: an array of shape (N, hidden_dim)\n",
        "    a1: an array of shape (N, hidden_dim)\n",
        "    z2: an array of shape (N, output_dim)\n",
        "    a2: an array of shape (N, output_dim)\n",
        "  \"\"\"\n",
        "  z1= np.dot(w1, x.T) + b1\n",
        "  a1= sigmoid(z1)\n",
        "\n",
        "  z2= np.dot(w2, a1) + b2\n",
        "  a2= sigmoid(z2)\n",
        "\n",
        "\n",
        "  return z1, a1, z2, a2"
      ],
      "metadata": {
        "id": "2TsS0tmbRuVx"
      },
      "execution_count": 19,
      "outputs": []
    },
    {
      "cell_type": "code",
      "source": [
        "def backwardpass(x,y, w1, b1, w2, b2):\n",
        "  \"\"\"\n",
        "  Parameters\n",
        "  ---------\n",
        "    x:  an array of N rows\n",
        "    y:  an array of N rows\n",
        "    w1: an array of shape (hidden_dim, input_dim)\n",
        "    b1: an array of shape (hidden_dim, 1). Bias vector\n",
        "    w2: an array of shape (output_dim, hidden_dim)\n",
        "    b2: an array of shape (1, 1)\n",
        "  \n",
        "  Return\n",
        "  ------\n",
        "    dw1: an array of shape (hidden_dim, input_dim)\n",
        "    db1: an array of shape (hidden_dim, 1). Bias vector\n",
        "    dw2: an array of shape (output_dim, hidden_dim)\n",
        "    db2: an array of shape (1, 1)\n",
        "  \"\"\"\n",
        "  \n",
        "  z1,a1,z2,a2=forward_pass(x, w1, b1, w2, b2)\n",
        "  m = len(y)\n",
        "  dz2 = (1 / m) * (a2 - y)\n",
        "  dz1 = np.dot(w2.T, dz2) * dsigmoid(z1)\n",
        "  dw1 = np.dot(dz1, x)\n",
        "  db1 = np.sum(dz1, axis=1, keepdims=True)\n",
        "  dw2 = np.dot(dz2, a1.T)\n",
        "  db2 = np.sum(dz2, axis=1, keepdims=True)\n",
        "  return dw1, db1, dw2, db2\n"
      ],
      "metadata": {
        "id": "R8i_pToSSXVp"
      },
      "execution_count": 20,
      "outputs": []
    },
    {
      "cell_type": "markdown",
      "source": [],
      "metadata": {
        "id": "1KL7uHz1yxqg"
      }
    },
    {
      "cell_type": "code",
      "source": [
        "def train(x,y, x_val, y_val):\n",
        "  \"\"\"\n",
        "  Parameters\n",
        "  ---------\n",
        "    x:  an array of N rows\n",
        "    y:  an array of N rows\n",
        "    w1: an array of shape (hidden_dim, input_dim)\n",
        "    b1: an array of shape (hidden_dim, 1). Bias vector\n",
        "    w2: an array of shape (output_dim, hidden_dim)\n",
        "    b2: an array of shape (1, 1)\n",
        "  \n",
        "  Return\n",
        "  ------\n",
        "    cost: an array of shape (num_epochs, )\n",
        "    cost_test: an array of shape (num_epochs, ).\n",
        "    w1: an array of shape (hidden_dim, input_dim)\n",
        "    b1: an array of shape (hidden_dim, 1). Bias vector\n",
        "    w2: an array of shape (output_dim, hidden_dim)\n",
        "    b2: an array of shape (1, 1)\n",
        "  \"\"\"\n",
        "\n",
        "  input_dim = x.shape[1]  # number of features\n",
        "  hidden_dim = 789 # number of units in the hidden layer\n",
        "  output_dim = 1  # number of units in the output layer\n",
        "  w1 = np.random.rand(hidden_dim, input_dim) * 0.01  # (hidden_dim, input_dim)\n",
        "  b1 = np.random.rand(hidden_dim, 1)  # (hidden_dim, 1)\n",
        "  w2 = np.random.rand(output_dim, hidden_dim) * 0.01  # (output_dim, hidden_dim)\n",
        "  b2 = np.random.rand(output_dim, 1)  # (output_dim, 1)\n",
        "  lr = 0.001\n",
        "  num_epochs = 1000\n",
        "  cost = []\n",
        "  cost_test = []\n",
        "  for i in range(num_epochs):\n",
        "\n",
        "                # Backward Pass\n",
        "        dw1, db1, dw2, db2 = backwardpass(x,y, w1, b1, w2, b2)\n",
        "\n",
        "        # Update weights\n",
        "        w1 -= lr * dw1\n",
        "        b1 -= lr * db1\n",
        "        w2 -= lr * dw2\n",
        "        b2 -= lr * db2\n",
        "\n",
        "                # Compute the Test Loss\n",
        "        z1, a1, z2, a2 = forward_pass(x, w1, b1, w2, b2)\n",
        "\n",
        "        # Compute the Train Loss\n",
        "        loss_train = cross_entropy(y, a2)\n",
        "        cost.append(loss_train)\n",
        "\n",
        "                        # Compute the Test Loss\n",
        "        z1, a1, z2, a2 = forward_pass(x_val, w1, b1, w2, b2)\n",
        "\n",
        "        loss_test = cross_entropy(y_val, a2)\n",
        "        cost_test.append(loss_test)\n",
        "\n",
        "\n",
        "\n",
        "  return cost, cost_test, w1, b1, w2, b2"
      ],
      "metadata": {
        "id": "FqiK4uIhSaAw"
      },
      "execution_count": 34,
      "outputs": []
    },
    {
      "cell_type": "code",
      "source": [
        "def accuracy(y, y_pred):\n",
        "  acc= np.mean(y_pred==y)*100\n",
        "  return acc"
      ],
      "metadata": {
        "id": "n6LNhbbOStNm"
      },
      "execution_count": 35,
      "outputs": []
    },
    {
      "cell_type": "code",
      "source": [
        "threshold= 0.5\n",
        "def get_class(x):\n",
        "  _,_,_,proba= forward_pass(x, w1, b1, w2, b2) # Get probability of x\n",
        "  proba= proba.squeeze(0)\n",
        "  result= [1 if i> threshold else 0 for i in proba] # Convert proba to 0 or 1. hint: list comprehension\n",
        "  return np.array(result), proba"
      ],
      "metadata": {
        "id": "VTeTNcFEVf2N"
      },
      "execution_count": 36,
      "outputs": []
    },
    {
      "cell_type": "code",
      "source": [
        "\n",
        "# train the model\n",
        "#cost, cost_test, w1, b1, w2, b2 = train(x_train.T, y_train_reshaped, x_test.T, y_test)\n",
        "\n",
        "cost, cost_test, w1, b1, w2, b2= train(x_train,y_train, x_test, y_test)"
      ],
      "metadata": {
        "id": "uurTCEclScpu"
      },
      "execution_count": 37,
      "outputs": []
    },
    {
      "cell_type": "code",
      "source": [
        "def plot(cost, cost_test):\n",
        "  plt.xlabel('Epochs')\n",
        "  plt.ylabel('Cost')\n",
        "  plt.plot(np.arange(len(cost)), cost, 'r', linewidth = \"2\", label= 'Train Loss')\n",
        "  plt.plot(np.arange(len(cost_test)), cost_test, 'b', linewidth = \"2\", label= 'Validation Loss')\n",
        "  plt.legend()\n",
        "  plt.show()\n",
        "  \n",
        "plot(cost, cost_test)"
      ],
      "metadata": {
        "colab": {
          "base_uri": "https://localhost:8080/",
          "height": 279
        },
        "id": "oYAvfW1uShKe",
        "outputId": "44598f54-4790-4a8f-c12e-fcaec54e8021"
      },
      "execution_count": 38,
      "outputs": [
        {
          "output_type": "display_data",
          "data": {
            "text/plain": [
              "<Figure size 432x288 with 1 Axes>"
            ],
            "image/png": "[encoded data removed]"
          },
          "metadata": {
            "needs_background": "light"
          }
        }
      ]
    },
    {
      "cell_type": "code",
      "source": [
        "y_pred, y_proba= get_class(x_test)"
      ],
      "metadata": {
        "id": "iykwA03WVlna"
      },
      "execution_count": 39,
      "outputs": []
    },
    {
      "cell_type": "code",
      "source": [
        "accuracy(y_test, y_pred)"
      ],
      "metadata": {
        "colab": {
          "base_uri": "https://localhost:8080/"
        },
        "id": "Ebun_QC3S0d9",
        "outputId": "7cd79fff-7098-4453-b756-367eb8f33d15"
      },
      "execution_count": 40,
      "outputs": [
        {
          "output_type": "execute_result",
          "data": {
            "text/plain": [
              "64.28571428571429"
            ]
          },
          "metadata": {},
          "execution_count": 40
        }
      ]
    },
    {
      "cell_type": "code",
      "source": [],
      "metadata": {
        "id": "0SEEil8MVOkA"
      },
      "execution_count": 27,
      "outputs": []
    },
    {
      "cell_type": "markdown",
      "source": [
        "# NN Class"
      ],
      "metadata": {
        "id": "7G7QcBAW2RGr"
      }
    },
    {
      "cell_type": "code",
      "source": [
        "# BGD\n",
        "class NN:\n",
        "  def __init__(self, x_test, y_test, size, num_epochs= 1000, lr= 0.001, threshold= 0.5):\n",
        "    self.num_epochs= num_epochs\n",
        "    self.lr= lr\n",
        "    self.threshold=threshold \n",
        "    self.cost_train=[]\n",
        "    self.size= size\n",
        "    self.x_test=x_test \n",
        "    self.y_test= y_test\n",
        "    self.params= self.weight_initialization()\n",
        "\n",
        "  def sigmoid(self,x):\n",
        "    return 1/( 1 + np.exp(-x))\n",
        "  \n",
        "  def dsigmoid(self,x):\n",
        "    return self.sigmoid(x)*(1-self.sigmoid(x))\n",
        "\n",
        "\n",
        "  def cross_entropy(self,y,y_pred):\n",
        "    loss= (1/(len(y)))*np.sum(y*np.log(y_pred) + (1-y)*np.log(1-y_pred))\n",
        "    return loss\n",
        "  \n",
        "  def weight_initialization(self):\n",
        "    input_dim= self.size[0]\n",
        "    hidden_dim= self.size[1]\n",
        "    output_dim= self.size[2]\n",
        "\n",
        "\n",
        "    params = {\n",
        "            'w1':np.random.rand(hidden_dim, input_dim)*0.01,\n",
        "            'b1':np.random.rand(hidden_dim,1),\n",
        "            'w2':np.random.rand(output_dim, hidden_dim)*0.01,\n",
        "            'b2':np.random.rand(1,1) \n",
        "        }\n",
        "\n",
        "    return params\n",
        "\n",
        "  def forward_pass(self, x):\n",
        "    params= self.params\n",
        "    z1=np.dot(params['w1'],x.T) +params['b1']\n",
        "    a1=self.sigmoid(z1)\n",
        "    z2=np.dot(params['w2'], a1)+ params['b2']\n",
        "    a2=self.sigmoid(z2)\n",
        "    \n",
        "\n",
        "    # ForwardPass\n",
        "   \n",
        "    return z1, a1, z2, a2\n",
        "  \n",
        "  def backward_pass(self, x, y):\n",
        "    params = self.params\n",
        "    m = x.shape[0]\n",
        "\n",
        "    z1, a1, z2, a2 = self.forward_pass(x)\n",
        "\n",
        "    dz2 = (1 / m) * (a2 - y)\n",
        "    dw2 = np.dot(dz2, a1.T)\n",
        "    db2 = np.sum(dz2, axis=1, keepdims=True)\n",
        "\n",
        "    dz1 = np.dot(params['w2'].T, dz2) * self.dsigmoid(z1)\n",
        "    dw1 = np.dot(dz1, x)\n",
        "    db1 = np.sum(dz1, axis=1, keepdims=True)\n",
        "\n",
        "    return dw1, db1, dw2, db2\n",
        "\n",
        "  def fit(self, x, y):\n",
        "\n",
        "    for i in range(self.num_epochs):\n",
        "\n",
        "      # Get Params\n",
        "      dw1, db1, dw2, db2=self.backward_pass( x, y)\n",
        "      params= self.params\n",
        "\n",
        "      params['w1'] -= self.lr *dw1\n",
        "      params['b1'] -= self.lr *db1\n",
        "      params['w2'] -= self.lr *dw2\n",
        "      params['b2'] -= self.lr *db2\n",
        "      z1, a1, z2, a2=self.forward_pass(x)\n",
        "      loss_train = cross_entropy(y, a2)\n",
        "      self.cost_train.append(loss_train)\n",
        "\n",
        "  \n",
        "    \n",
        "  \n",
        "  def get_class(self, x):\n",
        "    w1, b1, w2, b2= self.params['w1'], self.params['b1'], self.params['w2'], self.params['b2']\n",
        "    _,_,_,proba= self.forward_pass(x) \n",
        "    proba= proba.squeeze(0)\n",
        "    result= [1 if i> threshold else 0 for i in proba] # Convert proba to 0 or 1. hint: list comprehension\n",
        "    return np.array(result), proba\n",
        "\n",
        "  def accuracy(self, y,y_pred):\n",
        "    return np.mean(y==y_pred)*100\n",
        "  def plot(self):\n",
        "    plt.xlabel('Epochs')\n",
        "    plt.ylabel('Cost')\n",
        "    plt.plot(np.arange(len(self.cost_train)), self.cost_train, 'r', linewidth = \"2\", label= 'Train Loss')\n",
        "    plt.legend()\n",
        "    plt.show()"
      ],
      "metadata": {
        "id": "YtAjnH9x2QCe"
      },
      "execution_count": 28,
      "outputs": []
    },
    {
      "cell_type": "code",
      "source": [
        "size= [x_train.shape[1], 16, 1]\n",
        "model= NN(x_test, y_test, size, num_epochs= 2000, lr= 0.001)"
      ],
      "metadata": {
        "id": "9cH4O9nO2hnI"
      },
      "execution_count": 29,
      "outputs": []
    },
    {
      "cell_type": "code",
      "source": [
        "model.fit(x_train, y_train)"
      ],
      "metadata": {
        "id": "X_p1jP592kBF"
      },
      "execution_count": 30,
      "outputs": []
    },
    {
      "cell_type": "code",
      "source": [
        "model.plot()"
      ],
      "metadata": {
        "colab": {
          "base_uri": "https://localhost:8080/",
          "height": 279
        },
        "id": "rwoOWZR_2oqv",
        "outputId": "f4916aa5-0230-4ba2-be4e-72a71cf881bf"
      },
      "execution_count": 31,
      "outputs": [
        {
          "output_type": "display_data",
          "data": {
            "text/plain": [
              "<Figure size 432x288 with 1 Axes>"
            ],
            "image/png": "[encoded data removed]"
          },
          "metadata": {
            "needs_background": "light"
          }
        }
      ]
    },
    {
      "cell_type": "code",
      "source": [
        "y_pred= model.get_class(x_test)"
      ],
      "metadata": {
        "id": "vykN3yqw2sNZ"
      },
      "execution_count": 32,
      "outputs": []
    },
    {
      "cell_type": "code",
      "source": [
        "model.accuracy(y_pred, y_test)"
      ],
      "metadata": {
        "colab": {
          "base_uri": "https://localhost:8080/"
        },
        "id": "XUe7moBv2uWN",
        "outputId": "0408049f-8dc4-46d9-957d-6791112a95e5"
      },
      "execution_count": 33,
      "outputs": [
        {
          "output_type": "execute_result",
          "data": {
            "text/plain": [
              "32.142857142857146"
            ]
          },
          "metadata": {},
          "execution_count": 33
        }
      ]
    },
    {
      "cell_type": "code",
      "source": [],
      "metadata": {
        "id": "ZpQ0vQGo3GVb"
      },
      "execution_count": 33,
      "outputs": []
    }
  ]
}
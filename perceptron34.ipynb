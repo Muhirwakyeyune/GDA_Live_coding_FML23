{
  "nbformat": 4,
  "nbformat_minor": 0,
  "metadata": {
    "colab": {
      "provenance": [],
      "authorship_tag": "ABX9TyMC0GpD1H6pAlbnAaf7VACe",
      "include_colab_link": true
    },
    "kernelspec": {
      "name": "python3",
      "display_name": "Python 3"
    },
    "language_info": {
      "name": "python"
    }
  },
  "cells": [
    {
      "cell_type": "markdown",
      "metadata": {
        "id": "view-in-github",
        "colab_type": "text"
      },
      "source": [
        "<a href=\"https://colab.research.google.com/github/Muhirwakyeyune/GDA_Live_coding_FML23/blob/class/perceptron34.ipynb\" target=\"_parent\"><img src=\"https://colab.research.google.com/assets/colab-badge.svg\" alt=\"Open In Colab\"/></a>"
      ]
    },
    {
      "cell_type": "code",
      "execution_count": null,
      "metadata": {
        "id": "sM1IooLgQ-vu"
      },
      "outputs": [],
      "source": []
    },
    {
      "cell_type": "code",
      "source": [
        "import numpy as np\n",
        "import matplotlib.pyplot as plt\n",
        "\n",
        "class Perceptron:\n",
        "    def __init__(self, learning_rate=0.01, n_iterations=1000):\n",
        "        self.learning_rate = learning_rate\n",
        "        self.n_iterations = n_iterations\n",
        "        self.weights = None\n",
        "        self.bias = None\n",
        "        \n",
        "    def fit(self, X, y):\n",
        "        n_samples, n_features = X.shape\n",
        "        \n",
        "        # Initialize weights and bias to zero\n",
        "        self.weights = np.zeros(n_features)\n",
        "        self.bias = 0\n",
        "        \n",
        "        # Update weights and bias iteratively until convergence\n",
        "        for _ in range(self.n_iterations):\n",
        "            for i in range(n_samples):\n",
        "                linear_output = np.dot(self.weights, X[i]) + self.bias\n",
        "                predicted_output = self.activation_function(linear_output)\n",
        "                update = self.learning_rate * (y[i] - predicted_output)\n",
        "                self.weights += update * X[i]\n",
        "                self.bias += update\n",
        "                \n",
        "    def predict(self, X):\n",
        "        linear_output = np.dot(X, self.weights) + self.bias\n",
        "        predicted_output = self.activation_function(linear_output)\n",
        "        return predicted_output\n",
        "    \n",
        "    def activation_function(self, x):\n",
        "        return np.where(x >= 0, 1, -1)\n",
        "    \n",
        "    def plot_decision_boundary(self, X, y):\n",
        "        x_min, x_max = X[:, 0].min() - 1, X[:, 0].max() + 1\n",
        "        y_min, y_max = X[:, 1].min() - 1, X[:, 1].max() + 1\n",
        "        xx, yy = np.meshgrid(np.arange(x_min, x_max, 0.1),\n",
        "                             np.arange(y_min, y_max, 0.1))\n",
        "        Z = self.predict(np.c_[xx.ravel(), yy.ravel()])\n",
        "        Z = Z.reshape(xx.shape)\n",
        "        plt.contourf(xx, yy, Z, alpha=0.3)\n",
        "        plt.scatter(X[:, 0], X[:, 1], c=y)\n",
        "        plt.xlabel('x1')\n",
        "        plt.ylabel('x2')\n",
        "        plt.show()\n"
      ],
      "metadata": {
        "id": "dj9k8XH9Snna"
      },
      "execution_count": 1,
      "outputs": []
    },
    {
      "cell_type": "code",
      "source": [],
      "metadata": {
        "id": "YmEMP_UsSpwY"
      },
      "execution_count": null,
      "outputs": []
    }
  ]
}
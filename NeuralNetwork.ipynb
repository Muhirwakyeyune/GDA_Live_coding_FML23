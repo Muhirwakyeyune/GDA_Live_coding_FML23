{
  "nbformat": 4,
  "nbformat_minor": 0,
  "metadata": {
    "colab": {
      "provenance": [],
      "authorship_tag": "ABX9TyOj6pPnCHinjwyKfrbDJBwX",
      "include_colab_link": true
    },
    "kernelspec": {
      "name": "python3",
      "display_name": "Python 3"
    },
    "language_info": {
      "name": "python"
    }
  },
  "cells": [
    {
      "cell_type": "markdown",
      "metadata": {
        "id": "view-in-github",
        "colab_type": "text"
      },
      "source": [
        "<a href=\"https://colab.research.google.com/github/Muhirwakyeyune/GDA_Live_coding_FML23/blob/class/NeuralNetwork.ipynb\" target=\"_parent\"><img src=\"https://colab.research.google.com/assets/colab-badge.svg\" alt=\"Open In Colab\"/></a>"
      ]
    },
    {
      "cell_type": "code",
      "execution_count": null,
      "metadata": {
        "id": "deibfYiXsexa"
      },
      "outputs": [],
      "source": [
        "import numpy as np\n"
      ]
    },
    {
      "cell_type": "code",
      "source": [
        "import numpy as np\n",
        "\n",
        "class NeuralNetwork:\n",
        "    def __init__(self, input_dim, hidden_dim, output_dim, activation='sigmoid'):\n",
        "        self.input_dim = input_dim\n",
        "        self.hidden_dim = hidden_dim\n",
        "        self.output_dim = output_dim\n",
        "        self.activation = activation\n",
        "        # initialize weights randomly\n",
        "        self.w1 = np.random.randn(input_dim, hidden_dim)\n",
        "        self.b1 = np.zeros((1, hidden_dim))\n",
        "        self.w2 = np.random.randn(hidden_dim, output_dim)\n",
        "        self.b2 = np.zeros((1, output_dim))\n",
        "\n",
        "    def activate(self, z):\n",
        "      if self.activation=='sigmoid':\n",
        "      \n",
        "        return 1/(1 + np.exp(-z))\n",
        "      elif self.activation=='ReLu':\n",
        "        return np.maximum(0,z)\n",
        "\n",
        "    def activate_der(self, z):\n",
        "      if self.activation=='sigmoid':\n",
        "\n",
        "        return (self.activate(z))*(1-self.activate(z))\n",
        "      elif self.activation=='ReLu' :\n",
        "        return np.where(z>0,1,0)   \n",
        "\n",
        "    def forward(self, x):\n",
        "       \n",
        "        self.z1 = np.dot(x, self.w1) + self.b1\n",
        "        self.a1 = self.activate(self.z1)\n",
        "        self.z2 = np.dot(self.a1, self.w2) + self.b2\n",
        "        self.a2 = self.activate(self.z2)\n",
        "        return self.a2\n",
        "\n",
        "    def compute_loss(self, y, y_pred):\n",
        "        loss = (-1/len(y)) * np.sum((y * np.log(y_pred) + (1 - y) * np.log(1 - y_pred)))\n",
        "        return loss\n",
        "\n",
        "    def backward(self, x, y, y_pred,lr):\n",
        "        dl_a2 = (y_pred - y) / (y_pred * (1 - y_pred))\n",
        "        da2_dz2 = self.activate_der(self.z2)\n",
        "        dz2_dw2 = self.a1\n",
        "        dz2_db2 = 1\n",
        "        dz2_da1 = self.w2\n",
        "        da1_dz1 = self.activate_der(self.z1)\n",
        "        da1_dw1 = x\n",
        "        da1_db1 = 1\n",
        "        # compute derivatives\n",
        "        dw2 = np.dot(self.a1.T, dl_a2 * da2_dz2)\n",
        "        db2 = np.sum(dl_a2 * da2_dz2 * dz2_db2, axis=0, keepdims=True)\n",
        "        da1_dz1 = np.dot(dl_a2 * da2_dz2, dz2_da1.T)\n",
        "        dw1 = np.dot(x.T, da1_dz1 * da1_dw1)\n",
        "        db1 = np.sum(da1_dz1 * da1_db1, axis=0, keepdims=True)\n",
        "        # update parameters\n",
        "        self.w2 -= lr * dw2\n",
        "        self.b2 -= lr * db2\n",
        "        self.w1 -= lr * dw1\n",
        "        self.b1 -= lr * db1\n",
        "\n",
        "    def train(self, x, y, iterations=1000, lr=0.001):\n",
        "        for i in range(iterations):\n",
        "            y_pred = self.forward(x)\n",
        "            self.backward(x, y, y_pred, lr)\n",
        "            if i % 100 == 0:\n",
        "                loss = self.compute_loss(y, y_pred)\n",
        "                print(f\"Iteration {i}, loss: {loss}\")     \n",
        "    \n",
        "      \n"
      ],
      "metadata": {
        "id": "p_VY1H1tspax"
      },
      "execution_count": 12,
      "outputs": []
    },
    {
      "cell_type": "code",
      "source": [
        "\n",
        "\n",
        "# Define the dataset\n",
        "x = np.array([[0, 0], [0, 1], [1,0], [1,1]])\n",
        "x.shape\n",
        "y = np.array([[0], [1], [1], [0]])\n",
        "\n",
        "# Create a neural network with 2 input nodes, 2 hidden nodes, and 1 output node\n",
        "nn = NeuralNetwork(2, 2, 1,'sigmoid')\n",
        "nn.forward(x)\n",
        "y_pred=nn.forward(x)\n",
        "\n",
        "# Train the neural network for 1000 iterations\n",
        "nn.train(x, y, iterations=1000, lr=0.1)\n",
        "y_pred_rounded = np.round(y_pred)\n",
        "accuracy = np.mean(y_pred_rounded == y) * 100\n",
        "print(f\"Accuracy: {accuracy}%\")\n",
        "\n",
        "\n",
        "\n",
        "\n"
      ],
      "metadata": {
        "colab": {
          "base_uri": "https://localhost:8080/"
        },
        "id": "qn_UiJQVQzZM",
        "outputId": "c6f61b40-0788-4ce2-d12b-8dda31ad8f30"
      },
      "execution_count": 13,
      "outputs": [
        {
          "output_type": "stream",
          "name": "stdout",
          "text": [
            "Iteration 0, loss: 0.838959675299754\n",
            "Iteration 100, loss: 0.7015445569951706\n",
            "Iteration 200, loss: 0.6963873926870263\n",
            "Iteration 300, loss: 0.6921678759968064\n",
            "Iteration 400, loss: 0.6899479087076199\n",
            "Iteration 500, loss: 0.6863718917820874\n",
            "Iteration 600, loss: 0.6840103654573968\n",
            "Iteration 700, loss: 0.6723464522937808\n",
            "Iteration 800, loss: 0.5710347107735331\n",
            "Iteration 900, loss: 0.3243976816683828\n",
            "Accuracy: 50.0%\n"
          ]
        }
      ]
    },
    {
      "cell_type": "code",
      "source": [],
      "metadata": {
        "id": "H__RoXJUacx2"
      },
      "execution_count": null,
      "outputs": []
    }
  ]
}
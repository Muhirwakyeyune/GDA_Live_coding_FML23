{
  "nbformat": 4,
  "nbformat_minor": 0,
  "metadata": {
    "colab": {
      "provenance": []
    },
    "kernelspec": {
      "name": "python3",
      "display_name": "Python 3"
    },
    "language_info": {
      "name": "python"
    }
  },
  "cells": [
    {
      "cell_type": "markdown",
      "source": [
        "# GDA Implementation.\n",
        "\n",
        "Implement the Gaussian Discriminant Analysis (GDA) learning algorithm following the steps as discussed in class.\n",
        "\n",
        "INSTRUCTION: Rename your notebook as: <br>\n",
        "`firstName_LastName_Live_coding_GDA.ipynb`.\n",
        "\n",
        "Notes: \n",
        "* Do not use any built-in functions to complete a task;\n",
        "* Do not import additional libraries."
      ],
      "metadata": {
        "id": "g17Z46tmw2oZ"
      }
    },
    {
      "cell_type": "code",
      "execution_count": 1,
      "metadata": {
        "id": "aT5nlL-QTKwv"
      },
      "outputs": [],
      "source": [
        "import numpy as np\n",
        "import matplotlib.pyplot as plt\n",
        "from sklearn.datasets import make_classification"
      ]
    },
    {
      "cell_type": "code",
      "source": [
        "# Generate data\n",
        "def generate_data():\n",
        "  x, y = make_classification(n_samples= 1000, n_features=3, n_redundant=0, \n",
        "                           n_informative=3, random_state=1, \n",
        "                           n_clusters_per_class=1)\n",
        "  \n",
        "  return x,y\n",
        "\n",
        "x, y = generate_data()  # get data\n",
        "print(x.shape, y.shape)\n",
        "\n"
      ],
      "metadata": {
        "colab": {
          "base_uri": "https://localhost:8080/"
        },
        "id": "_-lL4Yq9Tbzn",
        "outputId": "7c69693d-fba7-433f-b364-9e34828ef470"
      },
      "execution_count": 2,
      "outputs": [
        {
          "output_type": "stream",
          "name": "stdout",
          "text": [
            "(1000, 3) (1000,)\n"
          ]
        }
      ]
    },
    {
      "cell_type": "code",
      "source": [
        "def split_data(x,y, train_size= 0.8):\n",
        "    # shuffle the data to randomize the train/test split\n",
        "    idx = int(train_size * len(x))\n",
        "    return x[:idx], y[:idx], x[idx:], y[idx:]\n",
        "\n",
        "X_train, y_train, X_test, y_test = split_data(x, y)\n",
        "print(X_train.shape, y_train.shape, X_test.shape, y_test.shape)\n",
        "\n"
      ],
      "metadata": {
        "id": "EUgiWLDhUAAK",
        "colab": {
          "base_uri": "https://localhost:8080/"
        },
        "outputId": "301ebc4a-f041-4f34-99bd-7fed28710e26"
      },
      "execution_count": 3,
      "outputs": [
        {
          "output_type": "stream",
          "name": "stdout",
          "text": [
            "(800, 3) (800,) (200, 3) (200,)\n"
          ]
        }
      ]
    },
    {
      "cell_type": "code",
      "source": [
        "X_train, y_train, X_test, y_test = split_data(x, y)\n",
        "print(X_train.shape, y_train.shape, X_test.shape, y_test.shape)\n"
      ],
      "metadata": {
        "colab": {
          "base_uri": "https://localhost:8080/"
        },
        "id": "Cr2Akm_A_FcJ",
        "outputId": "306e1431-2d7a-409d-d863-2b4d39dae517"
      },
      "execution_count": 4,
      "outputs": [
        {
          "output_type": "stream",
          "name": "stdout",
          "text": [
            "(800, 3) (800,) (200, 3) (200,)\n"
          ]
        }
      ]
    },
    {
      "cell_type": "code",
      "source": [
        "def covariance(x, mu):\n",
        "\n",
        "  # Easy way: cov= np.cov(x, rowvar=0) but do not use it. One can use it to assess his/her result.\n",
        "  n,d=x.shape\n",
        "  cov=np.zeros((d,d))\n",
        "  print(cov.shape)\n",
        "  # Easy way: cov= np.cov(x, rowvar=0) but do not use it. One can use it to assess his/her result.\n",
        "  for i in range(d):\n",
        "    for j in range(d):\n",
        "      cov[i,j]=np.sum((x[:,i]-mu[i])*(x[:,j]-mu[j]))/n-1\n",
        "  return cov\n",
        "covariance(X_train, mu=np.mean(x, axis=0))\n",
        "       "
      ],
      "metadata": {
        "id": "FrJ7GfXBHNxD",
        "colab": {
          "base_uri": "https://localhost:8080/"
        },
        "outputId": "6005a866-9fcc-4ae8-b140-4c72b7da32e8"
      },
      "execution_count": 10,
      "outputs": [
        {
          "output_type": "stream",
          "name": "stdout",
          "text": [
            "(3, 3)\n"
          ]
        },
        {
          "output_type": "execute_result",
          "data": {
            "text/plain": [
              "array([[ 0.8488706 , -1.01768208, -0.02765711],\n",
              "       [-1.01768208,  0.00582915, -0.97646158],\n",
              "       [-0.02765711, -0.97646158,  0.73777718]])"
            ]
          },
          "metadata": {},
          "execution_count": 10
        }
      ]
    },
    {
      "cell_type": "code",
      "source": [
        "class GDA:\n",
        "    def __init__(self):\n",
        "        ## set mu, phi and sigma to None\n",
        "        self.mu = None\n",
        "        self.phi = None\n",
        "        self.sigma = None\n",
        "    \n",
        "    def fit(self, x, y):\n",
        "        k = 2 # Number of classes\n",
        "        d = x.shape[1] # input dimension\n",
        "        m = x.shape[0] # Number of examples\n",
        "        \n",
        "        ## Initialize mu, phi and sigma\n",
        "        self.mu = np.vstack([np.mean(x[y==0], axis=0), np.mean(x[y==1], axis=0)]) # kxd, each row contains an individual class mu\n",
        "        self.sigma = np.zeros((k, d, d)) # kxdxd, each row contains an individual class sigma\n",
        "        self.phi = np.mean(y) # scalar\n",
        "        \n",
        "        ## START THE LEARNING: estimate mu, phi and sigma.\n",
        "        for i in range(m):\n",
        "            mui = np.reshape(x[i] - self.mu[y[i]], (d, 1))\n",
        "            self.sigma[y[i]] = self.sigma[y[i]] + np.dot(mui, mui.T)\n",
        "        self.sigma /= m\n",
        "        \n",
        "    def predict_proba(self, x):\n",
        "        # reshape or flatten x\n",
        "        x = x.reshape(-1, x.shape[1])\n",
        "        d = x.shape[1] # input dimension\n",
        "        k_class = self.sigma.shape[0] # Number of classes, here it's k=2\n",
        "        \n",
        "        ## START THE LEARNING: estimate mu, phi and sigma.\n",
        "        py0 = 1 - self.phi\n",
        "        py1 = self.phi\n",
        "        det_sigma = np.linalg.det(self.sigma)\n",
        "        inv_sigma = np.linalg.inv(self.sigma)\n",
        "        pdf0 = np.exp(-0.5 * np.sum(np.dot((x - self.mu[0]), inv_sigma[0]) * (x - self.mu[0]), axis=1)) / np.sqrt((2*np.pi)**(d/2) * det_sigma[0])\n",
        "        pdf1 = np.exp(-0.5 * np.sum(np.dot((x - self.mu[1]), inv_sigma[1]) * (x - self.mu[1]), axis=1)) / np.sqrt((2*np.pi)**(d/2) * det_sigma[1])\n",
        "        \n",
        "        probs = np.vstack([pdf0, pdf1]).T\n",
        "        \n",
        "        return probs\n",
        "        \n",
        "    def predict(self, x):\n",
        "        probs = self.predict_proba(x)\n",
        "        preds = np.argmax(probs, axis=1)\n",
        "        \n",
        "        return preds\n",
        "    \n",
        "    def accuracy(self, y, ypreds):\n",
        "        return np.mean(ypreds == y)"
      ],
      "metadata": {
        "id": "tJWFa3bbE8KV"
      },
      "execution_count": 5,
      "outputs": []
    },
    {
      "cell_type": "code",
      "source": [
        "model= GDA()\n",
        "model.fit(X_train,y_train)"
      ],
      "metadata": {
        "id": "l_qO0Yp1c3Is"
      },
      "execution_count": 6,
      "outputs": []
    },
    {
      "cell_type": "code",
      "source": [],
      "metadata": {
        "id": "YtoMxupzE7Tq"
      },
      "execution_count": null,
      "outputs": []
    },
    {
      "cell_type": "code",
      "source": [
        "yproba= model.predict_proba(X_test)\n",
        "yproba"
      ],
      "metadata": {
        "id": "NKY1eojY1l4e",
        "colab": {
          "base_uri": "https://localhost:8080/"
        },
        "outputId": "cc1451ff-5c45-4b73-f70b-1c7625369089"
      },
      "execution_count": 7,
      "outputs": [
        {
          "output_type": "execute_result",
          "data": {
            "text/plain": [
              "array([[1.96126319e+000, 1.85434263e-003],\n",
              "       [6.36993720e-001, 2.76609251e-012],\n",
              "       [8.65146850e-001, 2.42063655e-014],\n",
              "       [1.32026850e+000, 1.01079828e-005],\n",
              "       [6.13004952e-133, 6.37381485e-001],\n",
              "       [1.57158192e-047, 1.22663284e-002],\n",
              "       [7.47896709e-004, 8.39345749e-009],\n",
              "       [7.69057431e-002, 1.04650774e-014],\n",
              "       [6.30736774e-002, 6.14636309e-014],\n",
              "       [3.21851120e-002, 4.90707880e-007],\n",
              "       [1.03787076e-080, 1.22930826e-003],\n",
              "       [3.55250141e-004, 6.38059127e-006],\n",
              "       [1.07534646e-044, 3.94081306e-001],\n",
              "       [2.99372008e-009, 1.98662751e-003],\n",
              "       [2.53810857e-080, 6.71077576e-001],\n",
              "       [2.37157701e-163, 3.03687579e-001],\n",
              "       [8.65389362e-002, 7.47606691e-005],\n",
              "       [3.67742707e-005, 1.08022569e-001],\n",
              "       [4.10807103e-005, 8.79976876e-005],\n",
              "       [2.03748706e-014, 5.47174176e-001],\n",
              "       [3.43901537e-003, 3.64944225e-036],\n",
              "       [2.69414815e+000, 1.19620369e-006],\n",
              "       [6.45588313e-262, 1.37548124e-002],\n",
              "       [3.68200431e-051, 8.78407904e-001],\n",
              "       [1.62851338e+000, 9.81927304e-010],\n",
              "       [2.49620910e-053, 6.87527109e-001],\n",
              "       [7.33313605e-002, 1.47691407e-010],\n",
              "       [9.17591616e-002, 6.53639404e-005],\n",
              "       [3.53950412e+000, 4.89609441e-006],\n",
              "       [4.29815967e-027, 2.15348602e-001],\n",
              "       [7.13110590e-002, 1.50724859e-011],\n",
              "       [1.98380471e-048, 9.78381557e-001],\n",
              "       [3.77540734e-002, 2.86258954e-004],\n",
              "       [6.52042581e-001, 1.18868660e-007],\n",
              "       [1.16240866e-001, 2.97656596e-005],\n",
              "       [8.53552420e-001, 4.09326804e-005],\n",
              "       [2.16995633e-001, 6.18465483e-006],\n",
              "       [1.20698768e-308, 1.94403000e-002],\n",
              "       [8.10847999e-030, 2.48240031e-002],\n",
              "       [2.29133364e-002, 3.50588015e-005],\n",
              "       [7.39870700e-002, 3.38804612e-013],\n",
              "       [4.75580630e-052, 6.07542606e-002],\n",
              "       [7.22119824e-076, 2.68708705e-002],\n",
              "       [4.85611513e-001, 1.16229989e-002],\n",
              "       [1.72430480e+000, 1.14502238e-005],\n",
              "       [5.21229767e-120, 2.21026735e-001],\n",
              "       [2.11319940e+000, 4.50724942e-003],\n",
              "       [8.33677218e-002, 5.55743975e-011],\n",
              "       [2.33226914e-001, 2.15705442e-002],\n",
              "       [4.86883121e-003, 1.44707593e-028],\n",
              "       [8.79533804e-003, 6.02576976e-047],\n",
              "       [1.13333541e+000, 9.59164360e-006],\n",
              "       [1.92057093e-001, 7.26325919e-003],\n",
              "       [1.33817480e-018, 2.08845839e-004],\n",
              "       [1.68623781e-145, 2.08328577e-002],\n",
              "       [2.29612643e-002, 6.12893281e-008],\n",
              "       [3.42600658e-051, 3.61069732e-001],\n",
              "       [1.43962648e-026, 4.87814250e-002],\n",
              "       [5.29698029e-001, 1.27499588e-003],\n",
              "       [6.91814568e-006, 3.16637668e-005],\n",
              "       [2.78087715e-001, 2.91537498e-006],\n",
              "       [4.90078969e-150, 2.13611611e-001],\n",
              "       [1.64337055e-072, 8.87270099e-002],\n",
              "       [1.50183790e+000, 6.53817051e-007],\n",
              "       [1.23582224e+000, 2.83058656e-002],\n",
              "       [2.77050602e-001, 1.58051145e-005],\n",
              "       [9.57284301e-236, 3.42428629e-002],\n",
              "       [1.30017310e+000, 1.75073579e-015],\n",
              "       [1.44002724e-084, 6.45816372e-001],\n",
              "       [1.17642271e-001, 1.85858955e-019],\n",
              "       [8.16011953e-095, 3.71866376e-001],\n",
              "       [1.49101571e-002, 7.94783416e-002],\n",
              "       [2.05010592e-041, 1.14116618e+000],\n",
              "       [3.89550388e-068, 1.77099900e-002],\n",
              "       [6.53449461e-061, 1.40333758e-002],\n",
              "       [5.21244449e-001, 5.13220711e-005],\n",
              "       [6.85354652e-276, 2.76009482e-002],\n",
              "       [7.11146052e-003, 4.35928963e-002],\n",
              "       [2.15289363e+000, 1.57128916e-007],\n",
              "       [6.81632018e-002, 1.57939884e-008],\n",
              "       [4.63167859e-017, 4.93357959e-001],\n",
              "       [1.06029764e-001, 3.36052237e-005],\n",
              "       [1.32474964e-008, 4.44898411e-003],\n",
              "       [1.67631858e-034, 5.10049180e-001],\n",
              "       [7.01616020e-002, 3.54491633e-016],\n",
              "       [2.59966050e-001, 5.45490220e-007],\n",
              "       [9.48104117e-052, 6.75185016e-002],\n",
              "       [3.15695335e-102, 8.56577118e-001],\n",
              "       [4.93123910e-002, 2.05526722e-008],\n",
              "       [2.31961365e+000, 2.95355925e-005],\n",
              "       [5.06273814e-002, 1.14784522e-010],\n",
              "       [3.88915552e-075, 7.17371928e-001],\n",
              "       [1.01215556e-063, 3.96373566e-001],\n",
              "       [9.74866757e-001, 1.13586768e-003],\n",
              "       [4.80808866e-117, 1.82271099e-002],\n",
              "       [3.89156331e-003, 5.34209367e-004],\n",
              "       [7.67409543e-193, 7.32389671e-002],\n",
              "       [6.62865810e-029, 2.31280664e-001],\n",
              "       [1.16721259e-111, 4.11917344e-003],\n",
              "       [2.41697757e-001, 7.37994804e-021],\n",
              "       [2.75213770e-264, 3.30197552e-002],\n",
              "       [1.70476430e-001, 8.55430309e-005],\n",
              "       [2.68543696e-001, 3.28888139e-002],\n",
              "       [3.02199323e-028, 4.54907491e-002],\n",
              "       [2.42906945e-001, 6.84484830e-010],\n",
              "       [9.63052117e-168, 1.29787572e-001],\n",
              "       [1.32601362e-103, 9.56293550e-001],\n",
              "       [4.39881301e-179, 6.38950623e-003],\n",
              "       [1.29227851e+000, 1.11396957e-009],\n",
              "       [2.67943666e-163, 2.38012698e-001],\n",
              "       [2.81295765e+000, 4.21047873e-004],\n",
              "       [1.42566442e+000, 4.81527748e-003],\n",
              "       [2.10407253e-140, 2.17445205e-001],\n",
              "       [1.75769904e+000, 1.95212578e-002],\n",
              "       [1.02323619e-015, 2.01557345e-002],\n",
              "       [8.38207452e-001, 1.09955250e-004],\n",
              "       [5.85255564e-001, 9.01409202e-016],\n",
              "       [6.85847436e-102, 7.21295807e-001],\n",
              "       [1.72669616e+000, 3.75680282e-003],\n",
              "       [4.10065989e-019, 1.74813633e-001],\n",
              "       [4.45963746e-100, 1.01610561e-002],\n",
              "       [1.32257662e-001, 6.05435911e-015],\n",
              "       [8.72547097e-311, 6.09936764e-003],\n",
              "       [1.75602644e-067, 6.76919171e-002],\n",
              "       [8.25461414e-002, 2.69560195e-025],\n",
              "       [5.40582978e-001, 7.18631404e-004],\n",
              "       [2.03362134e-001, 1.04803718e-028],\n",
              "       [1.19576448e-231, 1.37930178e-002],\n",
              "       [1.92251446e-001, 8.53304991e-007],\n",
              "       [6.54061779e-001, 2.74466374e-012],\n",
              "       [3.46053301e-025, 1.68432446e-001],\n",
              "       [3.86294513e-094, 7.87894442e-003],\n",
              "       [2.29367706e-001, 4.77628882e-017],\n",
              "       [1.20221635e+000, 2.22346521e-012],\n",
              "       [6.12306833e-001, 5.17964044e-024],\n",
              "       [2.76789545e-015, 2.60430741e-005],\n",
              "       [4.51802103e-075, 5.02361962e-001],\n",
              "       [5.74362920e-026, 5.85481335e-001],\n",
              "       [1.40614917e-028, 4.58062527e-001],\n",
              "       [7.46895257e-183, 1.12014325e-001],\n",
              "       [5.63778238e-033, 4.48333778e-002],\n",
              "       [1.73758116e-037, 6.38470452e-001],\n",
              "       [4.79505971e-001, 7.26674635e-004],\n",
              "       [4.91926953e-027, 1.05858006e+000],\n",
              "       [7.13427866e-060, 5.31744899e-001],\n",
              "       [2.31856919e-244, 1.32190574e-003],\n",
              "       [3.78099524e-003, 5.39916511e-017],\n",
              "       [9.49078123e-003, 3.95955304e-013],\n",
              "       [1.68852465e-090, 1.00294054e-001],\n",
              "       [6.43768108e-054, 8.32413171e-001],\n",
              "       [9.24947389e-001, 6.17811339e-018],\n",
              "       [3.47560880e+000, 3.36240733e-006],\n",
              "       [6.24018813e-001, 8.55641736e-004],\n",
              "       [8.56301365e-013, 5.36485479e-001],\n",
              "       [2.61493386e-139, 3.13222717e-001],\n",
              "       [2.13719000e-211, 1.97634851e-001],\n",
              "       [4.05034300e-002, 4.23489215e-008],\n",
              "       [9.48820451e-001, 5.75579579e-018],\n",
              "       [1.90107503e-001, 4.07142260e-006],\n",
              "       [7.84664112e-082, 3.70424970e-001],\n",
              "       [3.29376715e-037, 1.18516652e+000],\n",
              "       [1.07555827e-006, 9.08965203e-002],\n",
              "       [2.42533880e-002, 7.59614109e-026],\n",
              "       [2.35985596e+000, 3.26109465e-010],\n",
              "       [9.17331483e-002, 6.83499649e-020],\n",
              "       [8.16097124e-003, 2.86808309e-002],\n",
              "       [8.16355636e-001, 2.61526177e-005],\n",
              "       [0.00000000e+000, 1.97404544e-008],\n",
              "       [5.34259579e-001, 9.76097032e-005],\n",
              "       [2.97761171e-001, 2.29526247e-014],\n",
              "       [1.31015990e-003, 5.57122991e-009],\n",
              "       [1.24736890e+000, 1.11675694e-004],\n",
              "       [6.17762311e-073, 7.22023384e-001],\n",
              "       [1.51342137e-002, 4.94939476e-013],\n",
              "       [2.91409271e-002, 2.43760486e-007],\n",
              "       [1.24886487e-177, 1.82580859e-003],\n",
              "       [1.43976401e-073, 2.79221600e-001],\n",
              "       [4.29032904e-002, 3.77625610e-006],\n",
              "       [6.67046943e-050, 1.23261600e-001],\n",
              "       [3.04571787e-001, 1.55914245e-009],\n",
              "       [1.78813996e-001, 4.45454690e-007],\n",
              "       [6.40490516e-001, 4.27208978e-002],\n",
              "       [5.33877874e-121, 2.10173392e-001],\n",
              "       [7.41650124e-065, 1.69529865e-001],\n",
              "       [3.73887273e-026, 4.37979659e-001],\n",
              "       [8.64172496e-001, 7.47951953e-015],\n",
              "       [2.98940495e-002, 1.70712277e-003],\n",
              "       [2.70041544e-106, 1.09986265e+000],\n",
              "       [3.83275902e-119, 1.30752515e-001],\n",
              "       [5.29332308e-001, 3.53661439e-012],\n",
              "       [7.40160330e-001, 6.13801137e-002],\n",
              "       [2.38003152e-147, 2.99401975e-001],\n",
              "       [2.67993567e-036, 8.25762853e-001],\n",
              "       [2.39581132e-003, 1.15189040e-002],\n",
              "       [1.90596266e+000, 1.82490115e-005],\n",
              "       [2.58466620e-093, 1.24273390e+000],\n",
              "       [3.87051149e-001, 8.17003279e-005],\n",
              "       [2.70727633e-092, 6.41582277e-003],\n",
              "       [3.13056581e-069, 4.03634753e-001],\n",
              "       [1.09865870e+000, 5.19642939e-015]])"
            ]
          },
          "metadata": {},
          "execution_count": 7
        }
      ]
    },
    {
      "cell_type": "code",
      "source": [
        "ypreds= model.predict(X_test)\n",
        "ypreds\n"
      ],
      "metadata": {
        "id": "D4clV6PK1UJK",
        "colab": {
          "base_uri": "https://localhost:8080/"
        },
        "outputId": "dba6b1ac-1bca-4fc2-8358-dff50c427cf2"
      },
      "execution_count": 8,
      "outputs": [
        {
          "output_type": "execute_result",
          "data": {
            "text/plain": [
              "array([0, 0, 0, 0, 1, 1, 0, 0, 0, 0, 1, 0, 1, 1, 1, 1, 0, 1, 1, 1, 0, 0,\n",
              "       1, 1, 0, 1, 0, 0, 0, 1, 0, 1, 0, 0, 0, 0, 0, 1, 1, 0, 0, 1, 1, 0,\n",
              "       0, 1, 0, 0, 0, 0, 0, 0, 0, 1, 1, 0, 1, 1, 0, 1, 0, 1, 1, 0, 0, 0,\n",
              "       1, 0, 1, 0, 1, 1, 1, 1, 1, 0, 1, 1, 0, 0, 1, 0, 1, 1, 0, 0, 1, 1,\n",
              "       0, 0, 0, 1, 1, 0, 1, 0, 1, 1, 1, 0, 1, 0, 0, 1, 0, 1, 1, 1, 0, 1,\n",
              "       0, 0, 1, 0, 1, 0, 0, 1, 0, 1, 1, 0, 1, 1, 0, 0, 0, 1, 0, 0, 1, 1,\n",
              "       0, 0, 0, 1, 1, 1, 1, 1, 1, 1, 0, 1, 1, 1, 0, 0, 1, 1, 0, 0, 0, 1,\n",
              "       1, 1, 0, 0, 0, 1, 1, 1, 0, 0, 0, 1, 0, 1, 0, 0, 0, 0, 1, 0, 0, 1,\n",
              "       1, 0, 1, 0, 0, 0, 1, 1, 1, 0, 0, 1, 1, 0, 0, 1, 1, 1, 0, 1, 0, 1,\n",
              "       1, 0])"
            ]
          },
          "metadata": {},
          "execution_count": 8
        }
      ]
    },
    {
      "cell_type": "code",
      "source": [
        "model.accuracy(y_test, ypreds)"
      ],
      "metadata": {
        "id": "QgG1xPUg1ULw",
        "colab": {
          "base_uri": "https://localhost:8080/"
        },
        "outputId": "c54b7f83-3436-4fd1-8543-f5cd045d00c9"
      },
      "execution_count": 9,
      "outputs": [
        {
          "output_type": "execute_result",
          "data": {
            "text/plain": [
              "0.97"
            ]
          },
          "metadata": {},
          "execution_count": 9
        }
      ]
    },
    {
      "cell_type": "code",
      "source": [],
      "metadata": {
        "id": "OpXYY-yj1UOj"
      },
      "execution_count": 9,
      "outputs": []
    },
    {
      "cell_type": "code",
      "source": [],
      "metadata": {
        "id": "8cvRcUO2rtKo"
      },
      "execution_count": 9,
      "outputs": []
    }
  ]
}
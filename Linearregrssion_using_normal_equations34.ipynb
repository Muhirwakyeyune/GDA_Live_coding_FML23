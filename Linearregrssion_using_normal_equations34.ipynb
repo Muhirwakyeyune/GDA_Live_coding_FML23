{
  "nbformat": 4,
  "nbformat_minor": 0,
  "metadata": {
    "colab": {
      "provenance": [],
      "authorship_tag": "ABX9TyMYAWSxrNWX8T+ihaAAhLWi",
      "include_colab_link": true
    },
    "kernelspec": {
      "name": "python3",
      "display_name": "Python 3"
    },
    "language_info": {
      "name": "python"
    }
  },
  "cells": [
    {
      "cell_type": "markdown",
      "metadata": {
        "id": "view-in-github",
        "colab_type": "text"
      },
      "source": [
        "<a href=\"https://colab.research.google.com/github/Muhirwakyeyune/GDA_Live_coding_FML23/blob/class1/Linearregrssion_using_normal_equations34.ipynb\" target=\"_parent\"><img src=\"https://colab.research.google.com/assets/colab-badge.svg\" alt=\"Open In Colab\"/></a>"
      ]
    },
    {
      "cell_type": "code",
      "execution_count": null,
      "metadata": {
        "id": "8EcBNk8tQiJg"
      },
      "outputs": [],
      "source": [
        "import numpy as np\n",
        "import matplotlib.pyplot as plt\n",
        "\n",
        "class LinearRegression:\n",
        "    def __init__(self):\n",
        "        self.theta = None\n",
        "    \n",
        "    def fit(self, X, y):\n",
        "        # Add intercept term to X\n",
        "        X = np.insert(X, 0, 1, axis=1)\n",
        "        \n",
        "        # Calculate theta using normal equation\n",
        "        self.theta = np.linalg.inv(X.T.dot(X)).dot(X.T).dot(y)\n",
        "        \n",
        "    def predict(self, X):\n",
        "        # Add intercept term to X\n",
        "        X = np.insert(X, 0, 1, axis=1)\n",
        "        \n",
        "        # Calculate predictions\n",
        "        y_pred = X.dot(self.theta)\n",
        "        return y_pred\n",
        "    \n",
        "    def plot(self, X, y):\n",
        "        # Plot data\n",
        "        plt.scatter(X, y)\n",
        "        \n",
        "        # Add predictions to plot\n",
        "        X_plot = np.linspace(X.min(), X.max(), 100)\n",
        "        X_plot_with_intercept = np.insert(X_plot.reshape(-1, 1), 0, 1, axis=1)\n",
        "        y_plot = X_plot_with_intercept.dot(self.theta)\n",
        "        plt.plot(X_plot, y_plot, color='r')\n",
        "        \n",
        "        # Set axis labels\n",
        "        plt.xlabel('X')\n",
        "        plt.ylabel('y')\n",
        "        \n",
        "        # Show plot\n",
        "        plt.show()\n",
        "# Generate synthetic data\n",
        "X = np.linspace(0, 10, 100).reshape(-1, 1)\n",
        "y = 2*X[:, 0] + 1 + np.random.randn(100)*2\n",
        "\n",
        "# Fit linear regression model\n",
        "model = LinearRegression()\n",
        "model.fit(X, y)\n",
        "\n",
        "# Make predictions and plot results\n",
        "y_pred = model.predict(X)\n",
        "model.plot(X, y)\n"
      ]
    }
  ]
}